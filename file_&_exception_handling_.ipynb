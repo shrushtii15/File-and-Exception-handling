{
  "nbformat": 4,
  "nbformat_minor": 0,
  "metadata": {
    "colab": {
      "provenance": []
    },
    "kernelspec": {
      "name": "python3",
      "display_name": "Python 3"
    },
    "language_info": {
      "name": "python"
    }
  },
  "cells": [
    {
      "cell_type": "markdown",
      "source": [
        "# **Theory** **Question**"
      ],
      "metadata": {
        "id": "RNpdhWITW4K4"
      }
    },
    {
      "cell_type": "markdown",
      "source": [
        "1. What is the difference between interpreted and compiled languages?\n",
        "  - Interpreted languages execute code line-by-line at runtime, while compiled languages translate code into machine code before execution.\n",
        "2. What is exception handling in Python?\n",
        "  - Exception handling in Python is a mechanism that allows you to catch and manage errors using try, except, else, and finally blocks to prevent program crashes.\n",
        "3. What is the purpose of the finally block in exception handling?\n",
        "  - The finally block in exception handling is used to define code that will always execute, whether an exception is raised or not, typically for cleanup actions like closing files or releasing resources.\n",
        "4. What is logging in Python?\n",
        "  - Logging in Python is the process of recording messages during program execution to track events, debug issues, or monitor application behavior using the built-in logging module.\n",
        "5. What is the significance of the __del__ method in Python?\n",
        "  -The __del__ method in Python is a special destructor method that is called when an object is about to be destroyed.\n",
        "6. What is the difference between import and from ... import in Python?\n",
        "  - import loads an entire module, requiring you to use the module name to access its functions (module.function()), while from ... import loads specific attributes or functions directly, allowing you to use them without the module prefix.\n",
        "7. How can you handle multiple exceptions in Python?\n",
        "  - We can handle multiple exceptions in Python by using multiple except blocks for different exceptions or a single except block with a tuple of exceptions.\n",
        "8. What is the purpose of the with statement when handling files in Python?\n",
        "  - The with statement in Python ensures that a file is properly opened and automatically closed after its block is executed.\n",
        "9. What is the difference between multithreading and multiprocessing?\n",
        "  -Multithreading uses multiple threads within a single process to perform tasks concurrently, sharing the same memory space, while multiprocessing uses multiple processes with separate memory spaces to run tasks in parallel, offering better performance for CPU-bound tasks.\n",
        "10. What are the advantages of using logging in a program?\n",
        "  - Logging helps track events, debug issues, and monitor program behavior without interrupting program flow.\n",
        "11. What is memory management in Python?\n",
        "  - Memory management in Python involves automatic allocation and deallocation of memory through reference counting and garbage collection to optimize resource usage and prevent memory leaks.\n",
        "12. What are the basic steps involved in exception handling in Python?\n",
        "  -  1.Try block\n",
        "     2.except block\n",
        "     3.else block\n",
        "     4.finally block\n",
        "13. Why is memory management important in Python?\n",
        "  - Memory management in Python is important to ensure efficient use of resources, prevent memory leaks, and optimize performance by automatically handling allocation and deallocation of memory.\n",
        "14. What is the role of try and except in exception handling?\n",
        "  - The try block contains code that may raise an exception, while the except block handles the exception if it occurs, preventing the program from crashing.\n",
        "15. How does Python's garbage collection system work?\n",
        "  - Python uses reference counting to keep track of object references and cyclic garbage collection to detect and clean up circular references.\n",
        "16. What is the purpose of the else block in exception handling?\n",
        "  - The else block executes code only if no exception occurs in the try block.\n",
        "17. What are the common logging levels in Python?\n",
        "  - The common logging levels in Python are DEBUG, INFO, WARNING, ERROR, and CRITICAL.\n",
        "18. What is the difference between os.fork() and multiprocessing in Python?\n",
        "  - `os.fork()` creates a new child process in the current process, while `multiprocessing` creates separate processes and handles inter-process communication and synchronization more efficiently.\n",
        "19. What is the importance of closing a file in Python?\n",
        "  - Closing a file ensures that all data is written to the file and resources are released properly, preventing memory leaks and file corruption.\n",
        "20. What is the difference between file.read() and file.readline() in Python?\n",
        "   - `file.read()` reads the entire content of the file at once, while `file.readline()` reads one line at a time.\n",
        "21. What is the logging module in Python used for?\n",
        "   - The `logging` module is used to track and record log messages, which helps in monitoring, debugging, and auditing programs.\n",
        "22. What is the os module in Python used for in file handling?\n",
        "   The `os` module provides functions to interact with the file system, such as creating, deleting, and manipulating files and directories.\n",
        "23. What are the challenges associated with memory management in Python?\n",
        "  - Challenges include managing circular references, dealing with high memory consumption in large data structures, and ensuring efficient memory allocation in resource-constrained environments.\n",
        "24. How do you raise an exception manually in Python?\n",
        " - You can raise an exception using the `raise` keyword:\n",
        "   python\n",
        "  raise Exception(\"Custom error message\")\n",
        "25. Why is it important to use multithreading in certain applications?\n",
        "  - Multithreading is important for improving performance in I/O-bound tasks, allowing concurrent execution of tasks without blocking the main program flow.\n",
        "\n",
        "\n"
      ],
      "metadata": {
        "id": "G1bWar6ZW3uA"
      }
    },
    {
      "cell_type": "markdown",
      "source": [
        "**Practica**l **questions**"
      ],
      "metadata": {
        "id": "QLlj9QKOdrzI"
      }
    },
    {
      "cell_type": "code",
      "execution_count": 11,
      "metadata": {
        "id": "GVw8lPBtWily"
      },
      "outputs": [],
      "source": [
        "# 1. How can you open a file for writing in Python and write a string to it\n",
        "with open('file.txt', 'w') as file:\n",
        "    file.write(\"this is the line1 in file\")\n",
        "    file.write(\"this is the line2 in file\")"
      ]
    },
    {
      "cell_type": "code",
      "source": [
        "# 2. Write a Python program to read the contents of a file and print each line\n",
        "\n",
        "with open('file.txt', 'r') as file:\n",
        "    for line in file:\n",
        "        print(line)\n"
      ],
      "metadata": {
        "colab": {
          "base_uri": "https://localhost:8080/"
        },
        "id": "PJH9ozurfXDk",
        "outputId": "0fc5efa4-a863-4c27-a123-0fdecbd78a2c"
      },
      "execution_count": 2,
      "outputs": [
        {
          "output_type": "stream",
          "name": "stdout",
          "text": [
            "this is th4 line in file\n"
          ]
        }
      ]
    },
    {
      "cell_type": "code",
      "source": [
        "# 3. How would you handle a case where the file doesn't exist while trying to open it for reading\n",
        "try:\n",
        "    with open('file.txt', 'r') as file:\n",
        "        for line in file:\n",
        "            print(line)\n",
        "except FileNotFoundError:\n",
        "    print(\"The file does not exist.\")\n"
      ],
      "metadata": {
        "colab": {
          "base_uri": "https://localhost:8080/"
        },
        "id": "LYHcAjjTfwHR",
        "outputId": "9aefcea3-2718-4062-8c7f-1e2377f8fa23"
      },
      "execution_count": 3,
      "outputs": [
        {
          "output_type": "stream",
          "name": "stdout",
          "text": [
            "this is th4 line in file\n"
          ]
        }
      ]
    },
    {
      "cell_type": "code",
      "source": [
        "# 4. Write a Python script that reads from one file and writes its content to another fileF\n",
        "# Open the source file in read mode and the destination file in write mode\n",
        "with open('file.txt', 'r') as source_file:\n",
        "    with open('destination.txt', 'w') as destination_file:\n",
        "        # Read the content from the source file and write it to the destination file\n",
        "        content = source_file.read()\n",
        "        destination_file.write(content)\n",
        "\n",
        "print(\"Content copied successfully.\")\n"
      ],
      "metadata": {
        "colab": {
          "base_uri": "https://localhost:8080/"
        },
        "id": "kkZw5NSKgBwk",
        "outputId": "4e63cd88-8d94-46ad-fc67-539036bd2cea"
      },
      "execution_count": 5,
      "outputs": [
        {
          "output_type": "stream",
          "name": "stdout",
          "text": [
            "Content copied successfully.\n"
          ]
        }
      ]
    },
    {
      "cell_type": "code",
      "source": [
        "# 5. :F How would you catch and handle division by zero error in Python\n",
        "try:\n",
        "    result = 10 / 0\n",
        "except ZeroDivisionError:\n",
        "    print(\"Error: Division by zero is not allowed.\")\n",
        "\n"
      ],
      "metadata": {
        "colab": {
          "base_uri": "https://localhost:8080/"
        },
        "id": "OqueWkOKhfjn",
        "outputId": "2f1f8305-90f2-4ebd-cf4c-a295ccdde236"
      },
      "execution_count": 6,
      "outputs": [
        {
          "output_type": "stream",
          "name": "stdout",
          "text": [
            "Error: Division by zero is not allowed.\n"
          ]
        }
      ]
    },
    {
      "cell_type": "code",
      "source": [
        "# 6.Write a Python program that logs an error message to a log file when a division by zero exception occurs\n",
        "import logging\n",
        "logging.basicConfig(filename='error_log.txt', level=logging.ERROR)\n",
        "\n",
        "try:\n",
        "    result = 10 / 0\n",
        "except ZeroDivisionError:\n",
        "    logging.error(\"Attempted to divide by zero.\")\n"
      ],
      "metadata": {
        "colab": {
          "base_uri": "https://localhost:8080/"
        },
        "id": "_Sz6obJTiBGD",
        "outputId": "df9fedab-6a90-452f-f57d-ac2b1f739d36"
      },
      "execution_count": 7,
      "outputs": [
        {
          "output_type": "stream",
          "name": "stderr",
          "text": [
            "ERROR:root:Attempted to divide by zero.\n"
          ]
        }
      ]
    },
    {
      "cell_type": "code",
      "source": [
        "# 7.How do you log information at different levels (INFO, ERROR, WARNING) in Python using the logging module\n",
        "import logging\n",
        "logging.basicConfig(filename='app_log.txt', level=logging.DEBUG)\n",
        "logging.info(\"This is an info message.\")\n",
        "logging.warning(\"This is a warning message.\")\n",
        "logging.error(\"This is an error message.\")\n"
      ],
      "metadata": {
        "colab": {
          "base_uri": "https://localhost:8080/"
        },
        "id": "o0NEG-cYiX4Y",
        "outputId": "a0b107c5-aa3d-43c1-a8ca-3d16a585b880"
      },
      "execution_count": 8,
      "outputs": [
        {
          "output_type": "stream",
          "name": "stderr",
          "text": [
            "WARNING:root:This is a warning message.\n",
            "ERROR:root:This is an error message.\n"
          ]
        }
      ]
    },
    {
      "cell_type": "code",
      "source": [
        "# 8. Write a program to handle a file opening error using exception handling?\n",
        "try:\n",
        "    with open('file1.txt', 'r') as file:\n",
        "        content = file.read()\n",
        "        print(content)\n",
        "except FileNotFoundError:\n",
        "    print(\"Error: The file does not exist.\")\n",
        "except Exception as e:\n",
        "    print(f\"An unexpected error occurred: {e}\")\n"
      ],
      "metadata": {
        "colab": {
          "base_uri": "https://localhost:8080/"
        },
        "id": "Cju9-a6DirhQ",
        "outputId": "341ba12a-ad2f-4229-c7ea-49b8f90cd488"
      },
      "execution_count": 9,
      "outputs": [
        {
          "output_type": "stream",
          "name": "stdout",
          "text": [
            "Error: The file does not exist.\n"
          ]
        }
      ]
    },
    {
      "cell_type": "code",
      "source": [
        "# 9. How can you read a file line by line and store its content in a list in Python\n",
        "with open('file.txt', 'r') as file:\n",
        "    lines = file.readlines()\n",
        "\n",
        "# Print the list of lines\n",
        "print(lines)"
      ],
      "metadata": {
        "colab": {
          "base_uri": "https://localhost:8080/"
        },
        "id": "-IjZnx3TjLgo",
        "outputId": "e5a8aa8d-ec5a-413b-97b2-f3e7aaab6f1c"
      },
      "execution_count": 12,
      "outputs": [
        {
          "output_type": "stream",
          "name": "stdout",
          "text": [
            "['this is the line1 in filethis is the line2 in file']\n"
          ]
        }
      ]
    },
    {
      "cell_type": "code",
      "source": [
        "# 10.  How can you append data to an existing file in Python\n",
        "with open('file.txt', 'a') as file:\n",
        "    file.write(\"this is the new line in the file\")\n"
      ],
      "metadata": {
        "id": "AjFWllXEjZ1O"
      },
      "execution_count": 13,
      "outputs": []
    },
    {
      "cell_type": "code",
      "source": [
        "# 11 Write a Python program that uses a try-except block to handle an error when attempting to access a\n",
        "# dictionary key that doesn't exist\n",
        "dict1 = {'a': 1, 'b': 2, 'c': 3}\n",
        "\n",
        "try:\n",
        "    value = dict1['d']\n",
        "except KeyError:\n",
        "    print(\"Error: The key does not exist in the dictionary.\")\n"
      ],
      "metadata": {
        "colab": {
          "base_uri": "https://localhost:8080/"
        },
        "id": "WoF36iAcj3GT",
        "outputId": "e4f5cd46-1743-4575-de0e-1a245b9a675f"
      },
      "execution_count": 14,
      "outputs": [
        {
          "output_type": "stream",
          "name": "stdout",
          "text": [
            "Error: The key does not exist in the dictionary.\n"
          ]
        }
      ]
    },
    {
      "cell_type": "code",
      "source": [
        "# 12.  Write a program that demonstrates using multiple except blocks to handle different types of exceptions\n",
        "try:\n",
        "    num1 = int(input(\"Enter a number: \"))\n",
        "    num2 = int(input(\"Enter another number: \"))\n",
        "    result = num1 / num2\n",
        "    print(f\"Result: {result}\")\n",
        "\n",
        "except ZeroDivisionError:\n",
        "    print(\"Error: Cannot divide by zero.\")\n",
        "except ValueError:\n",
        "    print(\"Error: Please enter valid integers.\")\n"
      ],
      "metadata": {
        "colab": {
          "base_uri": "https://localhost:8080/"
        },
        "id": "3jrDmwVCkKpV",
        "outputId": "3ca233a6-57f7-4388-dad7-81943949bb65"
      },
      "execution_count": 16,
      "outputs": [
        {
          "output_type": "stream",
          "name": "stdout",
          "text": [
            "Enter a number: 2\n",
            "Enter another number: 0\n",
            "Error: Cannot divide by zero.\n"
          ]
        }
      ]
    },
    {
      "cell_type": "code",
      "source": [
        "# 13. How would you check if a file exists before attempting to read it in Python\n",
        "import os\n",
        "\n",
        "file_path = 'file.txt'\n",
        "if os.path.exists(file_path):\n",
        "    with open(file_path, 'r') as file:\n",
        "        content = file.read()\n",
        "        print(content)\n",
        "else:\n",
        "    print(\"The file does not exist.\")\n"
      ],
      "metadata": {
        "colab": {
          "base_uri": "https://localhost:8080/"
        },
        "id": "VdchIuAFkk8i",
        "outputId": "20283c65-a7b4-4360-dc1c-df7f9317449c"
      },
      "execution_count": 17,
      "outputs": [
        {
          "output_type": "stream",
          "name": "stdout",
          "text": [
            "this is the line1 in filethis is the line2 in filethis is the new line in the file\n"
          ]
        }
      ]
    },
    {
      "cell_type": "code",
      "source": [
        "# 14. Write a program that uses the logging module to log both informational and error messages\n",
        "import logging\n",
        "logging.basicConfig(filename='log.txt', level=logging.INFO)\n",
        "logging.info(\"Program started\")\n",
        "try:\n",
        "    x = 10 / 0\n",
        "except ZeroDivisionError:\n",
        "    logging.error(\"Tried to divide by zero\")\n",
        "logging.info(\"Program ended\")\n"
      ],
      "metadata": {
        "colab": {
          "base_uri": "https://localhost:8080/"
        },
        "id": "-wdPb3iJk9Kg",
        "outputId": "127eb3c3-c8fe-46be-97ed-335da7e8fb80"
      },
      "execution_count": 18,
      "outputs": [
        {
          "output_type": "stream",
          "name": "stderr",
          "text": [
            "ERROR:root:Tried to divide by zero\n"
          ]
        }
      ]
    },
    {
      "cell_type": "code",
      "source": [
        "# 15.Write a Python program that prints the content of a file and handles the case when the file is empty\n",
        "try:\n",
        "    with open('file.txt', 'r') as file:\n",
        "        content = file.read()\n",
        "        if content:\n",
        "            print(\"File Content:\\n\", content)\n",
        "        else:\n",
        "            print(\"The file is empty.\")\n",
        "except FileNotFoundError:\n",
        "    print(\"The file does not exist.\")\n"
      ],
      "metadata": {
        "colab": {
          "base_uri": "https://localhost:8080/"
        },
        "id": "V6exb8XclShm",
        "outputId": "b22b0a41-1c73-4327-abb0-f934ba5bd611"
      },
      "execution_count": 20,
      "outputs": [
        {
          "output_type": "stream",
          "name": "stdout",
          "text": [
            "File Content:\n",
            " this is the line1 in filethis is the line2 in filethis is the new line in the file\n"
          ]
        }
      ]
    },
    {
      "cell_type": "code",
      "source": [
        "# 16. Demonstrate how to use memory profiling to check the memory usage of a small program\n",
        "\n"
      ],
      "metadata": {
        "id": "oxvDKLOVlftk"
      },
      "execution_count": 22,
      "outputs": []
    },
    {
      "cell_type": "code",
      "source": [
        "# 17. Write a Python program to create and write a list of numbers to a file, one number per line\n",
        "numbers = [1, 2, 3, 4, 5]\n",
        "\n",
        "with open('numbers.txt', 'w') as file:\n",
        "    for number in numbers:\n",
        "        file.write(f\"{number}\\n\")\n"
      ],
      "metadata": {
        "id": "ux0qae0Dn2m7"
      },
      "execution_count": 24,
      "outputs": []
    },
    {
      "cell_type": "code",
      "source": [
        "# 18. How would you implement a basic logging setup that logs to a file with rotation after 1MM\n",
        "import logging\n",
        "from logging.handlers import RotatingFileHandler\n",
        "\n",
        "handler = RotatingFileHandler('app.log', maxBytes=1000000, backupCount=2)\n",
        "\n",
        "logging.basicConfig(level=logging.INFO, handlers=[handler])\n",
        "\n",
        "logging.info(\"This is a basic rotating log example.\")\n"
      ],
      "metadata": {
        "id": "tlMQn02MoOjS"
      },
      "execution_count": 25,
      "outputs": []
    },
    {
      "cell_type": "code",
      "source": [
        "# 19. Write a program that handles both IndexError and KeyError using a try-except block\n",
        "my_list = [1, 2, 3]\n",
        "my_dict = {'a': 10, 'b': 20}\n",
        "\n",
        "try:\n",
        "    print(my_list[5])\n",
        "    print(my_dict['z'])\n",
        "except IndexError:\n",
        "    print(\"IndexError: List index out of range.\")\n",
        "except KeyError:\n",
        "    print(\"KeyError: Key not found in dictionary.\")\n"
      ],
      "metadata": {
        "colab": {
          "base_uri": "https://localhost:8080/"
        },
        "id": "1B-T5R9AoslO",
        "outputId": "b061f711-d7b3-4f9f-edf2-5f6f8823f412"
      },
      "execution_count": 26,
      "outputs": [
        {
          "output_type": "stream",
          "name": "stdout",
          "text": [
            "IndexError: List index out of range.\n"
          ]
        }
      ]
    },
    {
      "cell_type": "code",
      "source": [
        "# 20 How would you open a file and read its contents using a context manager in Python\n",
        "with open('file.txt', 'r') as file:\n",
        "    content = file.read()\n",
        "    print(content)\n",
        "\n"
      ],
      "metadata": {
        "colab": {
          "base_uri": "https://localhost:8080/"
        },
        "id": "cx-xeOkDpC7s",
        "outputId": "67a33d72-b175-49e8-f4f7-a2012e3042f6"
      },
      "execution_count": 27,
      "outputs": [
        {
          "output_type": "stream",
          "name": "stdout",
          "text": [
            "this is the line1 in filethis is the line2 in filethis is the new line in the file\n"
          ]
        }
      ]
    },
    {
      "cell_type": "code",
      "source": [
        "# 21. Write a Python program that reads a file and prints the number of occurrences of a specific word\n",
        "wordcount = \"Shrushti\"\n",
        "\n",
        "with open('file.txt', 'r') as file:\n",
        "    content = file.read()\n",
        "    word_count = content.lower().split().count(wordcount.lower())\n",
        "\n",
        "print(f\"The word '{wordcount}' appears {word_count} times in the file.\")\n"
      ],
      "metadata": {
        "colab": {
          "base_uri": "https://localhost:8080/"
        },
        "id": "6AvXW7wGpXC7",
        "outputId": "3f49d93f-e3cf-448e-9410-38897a86ad61"
      },
      "execution_count": 29,
      "outputs": [
        {
          "output_type": "stream",
          "name": "stdout",
          "text": [
            "The word 'Shrushti' appears 0 times in the file.\n"
          ]
        }
      ]
    },
    {
      "cell_type": "code",
      "source": [
        "# 22. How can you check if a file is empty before attempting to read its contents\n",
        "import os\n",
        "file_path = 'file.txt'\n",
        "\n",
        "if os.path.getsize(file_path) > 0:\n",
        "    with open(file_path, 'r') as file:\n",
        "        content = file.read()\n",
        "        print(content)\n",
        "else:\n",
        "    print(\"The file is empty.\")\n"
      ],
      "metadata": {
        "id": "Lw5UoeiSp8S4"
      },
      "execution_count": null,
      "outputs": []
    },
    {
      "cell_type": "code",
      "source": [
        "# 23.Write a Python program that writes to a log file when an error occurs during file handling.\n",
        "import logging\n",
        "logging.basicConfig(filename='error_log.txt', level=logging.ERROR)\n",
        "\n",
        "try:\n",
        "    with open('nonexistent_file.txt', 'r') as file:\n",
        "        content = file.read()\n",
        "except Exception as e:\n",
        "    logging.error(f\"Error: {e}\")\n"
      ],
      "metadata": {
        "colab": {
          "base_uri": "https://localhost:8080/"
        },
        "id": "Xfd62XM-ptWZ",
        "outputId": "72012cf5-203b-4f2c-fc34-508069e3b080"
      },
      "execution_count": 30,
      "outputs": [
        {
          "output_type": "stream",
          "name": "stderr",
          "text": [
            "ERROR:root:Error: [Errno 2] No such file or directory: 'nonexistent_file.txt'\n"
          ]
        }
      ]
    },
    {
      "cell_type": "code",
      "source": [],
      "metadata": {
        "id": "Oz5W9EF6qU_I"
      },
      "execution_count": null,
      "outputs": []
    }
  ]
}